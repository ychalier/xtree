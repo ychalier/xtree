{
 "cells": [
  {
   "cell_type": "code",
   "execution_count": 9,
   "metadata": {},
   "outputs": [],
   "source": [
    "import os \n",
    "import pandas\n",
    "import seaborn as sns\n",
    "%matplotlib inline\n",
    "import matplotlib\n",
    "import matplotlib.pyplot as plt\n",
    "csv_list = os.listdir()"
   ]
  },
  {
   "cell_type": "code",
   "execution_count": 10,
   "metadata": {},
   "outputs": [],
   "source": [
    "first = csv_list[0]"
   ]
  },
  {
   "cell_type": "code",
   "execution_count": 11,
   "metadata": {},
   "outputs": [
    {
     "name": "stdout",
     "output_type": "stream",
     "text": [
      "output_pretrain_500_batch_size_1_dataset_elec.csv\n"
     ]
    }
   ],
   "source": [
    "print(first)"
   ]
  },
  {
   "cell_type": "code",
   "execution_count": 15,
   "metadata": {},
   "outputs": [
    {
     "data": {
      "text/html": [
       "<div>\n",
       "<style scoped>\n",
       "    .dataframe tbody tr th:only-of-type {\n",
       "        vertical-align: middle;\n",
       "    }\n",
       "\n",
       "    .dataframe tbody tr th {\n",
       "        vertical-align: top;\n",
       "    }\n",
       "\n",
       "    .dataframe thead th {\n",
       "        text-align: right;\n",
       "    }\n",
       "</style>\n",
       "<table border=\"1\" class=\"dataframe\">\n",
       "  <thead>\n",
       "    <tr style=\"text-align: right;\">\n",
       "      <th></th>\n",
       "      <th>id</th>\n",
       "      <th>mean_acc_[HT]</th>\n",
       "      <th>current_acc_[HT]</th>\n",
       "      <th>mean_acc_[HATT]</th>\n",
       "      <th>current_acc_[HATT]</th>\n",
       "      <th>mean_kappa_[HT]</th>\n",
       "      <th>current_kappa_[HT]</th>\n",
       "      <th>mean_kappa_[HATT]</th>\n",
       "      <th>current_kappa_[HATT]</th>\n",
       "    </tr>\n",
       "  </thead>\n",
       "  <tbody>\n",
       "    <tr>\n",
       "      <th>0</th>\n",
       "      <td>500</td>\n",
       "      <td>1.000000</td>\n",
       "      <td>1.000</td>\n",
       "      <td>1.000000</td>\n",
       "      <td>1.000</td>\n",
       "      <td>1.000000</td>\n",
       "      <td>1.000000</td>\n",
       "      <td>1.000000</td>\n",
       "      <td>1.000000</td>\n",
       "    </tr>\n",
       "    <tr>\n",
       "      <th>1</th>\n",
       "      <td>501</td>\n",
       "      <td>1.000000</td>\n",
       "      <td>1.000</td>\n",
       "      <td>1.000000</td>\n",
       "      <td>1.000</td>\n",
       "      <td>1.000000</td>\n",
       "      <td>1.000000</td>\n",
       "      <td>1.000000</td>\n",
       "      <td>1.000000</td>\n",
       "    </tr>\n",
       "    <tr>\n",
       "      <th>2</th>\n",
       "      <td>599</td>\n",
       "      <td>0.730000</td>\n",
       "      <td>0.730</td>\n",
       "      <td>0.910000</td>\n",
       "      <td>0.910</td>\n",
       "      <td>0.496269</td>\n",
       "      <td>0.496269</td>\n",
       "      <td>0.804007</td>\n",
       "      <td>0.804007</td>\n",
       "    </tr>\n",
       "    <tr>\n",
       "      <th>3</th>\n",
       "      <td>799</td>\n",
       "      <td>0.806667</td>\n",
       "      <td>0.845</td>\n",
       "      <td>0.913333</td>\n",
       "      <td>0.915</td>\n",
       "      <td>0.608196</td>\n",
       "      <td>0.664937</td>\n",
       "      <td>0.826782</td>\n",
       "      <td>0.825855</td>\n",
       "    </tr>\n",
       "    <tr>\n",
       "      <th>4</th>\n",
       "      <td>999</td>\n",
       "      <td>0.812000</td>\n",
       "      <td>0.820</td>\n",
       "      <td>0.924000</td>\n",
       "      <td>0.940</td>\n",
       "      <td>0.614659</td>\n",
       "      <td>0.624217</td>\n",
       "      <td>0.847671</td>\n",
       "      <td>0.878543</td>\n",
       "    </tr>\n",
       "  </tbody>\n",
       "</table>\n",
       "</div>"
      ],
      "text/plain": [
       "    id  mean_acc_[HT]  current_acc_[HT]  mean_acc_[HATT]  current_acc_[HATT]  \\\n",
       "0  500       1.000000             1.000         1.000000               1.000   \n",
       "1  501       1.000000             1.000         1.000000               1.000   \n",
       "2  599       0.730000             0.730         0.910000               0.910   \n",
       "3  799       0.806667             0.845         0.913333               0.915   \n",
       "4  999       0.812000             0.820         0.924000               0.940   \n",
       "\n",
       "   mean_kappa_[HT]  current_kappa_[HT]  mean_kappa_[HATT]  \\\n",
       "0         1.000000            1.000000           1.000000   \n",
       "1         1.000000            1.000000           1.000000   \n",
       "2         0.496269            0.496269           0.804007   \n",
       "3         0.608196            0.664937           0.826782   \n",
       "4         0.614659            0.624217           0.847671   \n",
       "\n",
       "   current_kappa_[HATT]  \n",
       "0              1.000000  \n",
       "1              1.000000  \n",
       "2              0.804007  \n",
       "3              0.825855  \n",
       "4              0.878543  "
      ]
     },
     "execution_count": 15,
     "metadata": {},
     "output_type": "execute_result"
    }
   ],
   "source": [
    "df = pandas.read_csv(first,skiprows=6)\n",
    "df.head()"
   ]
  },
  {
   "cell_type": "code",
   "execution_count": 18,
   "metadata": {},
   "outputs": [
    {
     "data": {
      "text/plain": [
       "<matplotlib.axes._subplots.AxesSubplot at 0x117556fd0>"
      ]
     },
     "execution_count": 18,
     "metadata": {},
     "output_type": "execute_result"
    },
    {
     "data": {
      "image/png": "[encoded data removed]",
      "text/plain": [
       "<Figure size 432x288 with 1 Axes>"
      ]
     },
     "metadata": {
      "needs_background": "light"
     },
     "output_type": "display_data"
    },
    {
     "data": {
      "image/png": "[encoded data removed]",
      "text/plain": [
       "<Figure size 432x288 with 1 Axes>"
      ]
     },
     "metadata": {
      "needs_background": "light"
     },
     "output_type": "display_data"
    }
   ],
   "source": [
    "df.plot(y=\"mean_acc_[HT]\")\n",
    "df.plot(y=\"mean_acc_[HATT]\")\n",
    "\n"
   ]
  },
  {
   "cell_type": "code",
   "execution_count": null,
   "metadata": {},
   "outputs": [],
   "source": []
  }
 ],
 "metadata": {
  "kernelspec": {
   "display_name": "Python 3",
   "language": "python",
   "name": "python3"
  },
  "language_info": {
   "codemirror_mode": {
    "name": "ipython",
    "version": 3
   },
   "file_extension": ".py",
   "mimetype": "text/x-python",
   "name": "python",
   "nbconvert_exporter": "python",
   "pygments_lexer": "ipython3",
   "version": "3.6.7"
  }
 },
 "nbformat": 4,
 "nbformat_minor": 2
}
